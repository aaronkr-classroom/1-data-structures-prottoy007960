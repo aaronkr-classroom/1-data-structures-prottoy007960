{
 "cells": [
  {
   "cell_type": "markdown",
   "metadata": {},
   "source": [
    "# Array Value Swap\n",
    "\n",
    "This is a simple problem where we are given an array of integers and we have to swap the values of the array at the given indices.\n",
    "\n",
    "**Time Complexity:** The problem is simple and can be solved in O(1) time complexity.\n",
    "\n",
    "![Array Swap](../img/1.1-array-swap.jpg)"
   ]
  },
  {
   "cell_type": "code",
   "execution_count": 1,
   "metadata": {},
   "outputs": [
    {
     "name": "stdout",
     "output_type": "stream",
     "text": [
      "Before swap: [10, 20, 30, 40, 50]\n",
      "After swap: [10, 40, 30, 20, 50]\n"
     ]
    }
   ],
   "source": [
    "# Function to swap two values in an array\n",
    "def swap(arr,index1,index2):\n",
    "    temp =arr[index1]\n",
    "    arr[index1]=arr[index2]\n",
    "    arr[index2]=temp\n",
    "\n",
    "# Example usage\n",
    "array = [10, 20, 30, 40, 50]\n",
    "\n",
    "print(\"Before swap:\", array)\n",
    "\n",
    "# Swap values at index 1 and index 3\n",
    "swap(array, 1, 3)\n",
    "\n",
    "print(\"After swap:\", array)"
   ]
  },
  {
   "cell_type": "code",
   "execution_count": 3,
   "metadata": {},
   "outputs": [
    {
     "data": {
      "text/plain": [
       "[50, 40, 30, 20, 10]"
      ]
     },
     "execution_count": 3,
     "metadata": {},
     "output_type": "execute_result"
    }
   ],
   "source": [
    "swap(array,0,4)\n",
    "array"
   ]
  },
  {
   "cell_type": "markdown",
   "metadata": {},
   "source": [
    "# Insertion Sort\n",
    "\n",
    "This is a simple sorting algorithm that builds the final sorted array one item at a time. It is much less efficient on large lists than more advanced algorithms such as quicksort, heapsort, or merge sort.\n",
    "\n",
    "**Time Complexity:** The time complexity of the insertion sort is O(n^2) in the worst case.\n",
    "\n",
    "![Insertion Sort](../img/1.2-insertion-sort.jpg)"
   ]
  },
  {
   "cell_type": "code",
   "execution_count": 11,
   "metadata": {},
   "outputs": [
    {
     "name": "stdout",
     "output_type": "stream",
     "text": [
      "Original array: [12, 11, 13, 5, 6]\n",
      "Sorted array: [5, 6, 11, 12, 13]\n"
     ]
    }
   ],
   "source": [
    "# Book solution\n",
    "def insertion_sort(A, debug =0):\n",
    "    N=len(A)\n",
    "    i=1\n",
    "\n",
    "    while i < N:\n",
    "        current=A[i] # 11\n",
    "        j=i-1 # jth index=0\n",
    "\n",
    "        while j >=0 and A[j]>current:\n",
    "            A[j+1]=A[j] #0th item saved into the 1st item\n",
    "            j -=1 # j= j-1\n",
    "\n",
    "            if debug: #debug == 1 or debug == True\n",
    "                print(f\"Inside while:Array: {A}, current:{current}, i: {i}, j: {j}\")\n",
    "\n",
    "        A[j+1] = current \n",
    "        i+= 1 \n",
    "        if debug: # debug ==1 or debug == True\n",
    "            print(f\"Outside while:Array: {A}, current:{current}, i: {i}, j: {j}\")\n",
    "         \n",
    "\n",
    "\n",
    "# Example usage\n",
    "array = [12, 11, 13, 5, 6]\n",
    "print(\"Original array:\", array)\n",
    "insertion_sort(array)\n",
    "print(\"Sorted array:\", array)"
   ]
  },
  {
   "cell_type": "code",
   "execution_count": 12,
   "metadata": {},
   "outputs": [
    {
     "name": "stdout",
     "output_type": "stream",
     "text": [
      "Original array: [12, 11, 13, 5, 6]\n",
      "Inside while:Array: [12, 12, 13, 5, 6], current:11, i: 1, j: -1\n",
      "Outside while:Array: [11, 12, 13, 5, 6], current:11, i: 2, j: -1\n",
      "Outside while:Array: [11, 12, 13, 5, 6], current:13, i: 3, j: 1\n",
      "Inside while:Array: [11, 12, 13, 13, 6], current:5, i: 3, j: 1\n",
      "Inside while:Array: [11, 12, 12, 13, 6], current:5, i: 3, j: 0\n",
      "Inside while:Array: [11, 11, 12, 13, 6], current:5, i: 3, j: -1\n",
      "Outside while:Array: [5, 11, 12, 13, 6], current:5, i: 4, j: -1\n",
      "Inside while:Array: [5, 11, 12, 13, 13], current:6, i: 4, j: 2\n",
      "Inside while:Array: [5, 11, 12, 12, 13], current:6, i: 4, j: 1\n",
      "Inside while:Array: [5, 11, 11, 12, 13], current:6, i: 4, j: 0\n",
      "Outside while:Array: [5, 6, 11, 12, 13], current:6, i: 5, j: 0\n",
      "Sorted array: [5, 6, 11, 12, 13]\n"
     ]
    }
   ],
   "source": [
    "array = [12, 11, 13, 5, 6]\n",
    "print(\"Original array:\", array)\n",
    "insertion_sort(array, True)\n",
    "print(\"Sorted array:\", array)"
   ]
  },
  {
   "cell_type": "markdown",
   "metadata": {},
   "source": [
    "# String Equality\n",
    "\n",
    "This is a simple problem where we are given two strings and we have to check if the strings are equal or not.\n",
    "\n",
    "**Time Complexity:** The time complexity of the problem is O(n) where n is the length of the string.\n",
    "\n",
    "![String Equality](../img/1.3-string-equality.jpg)"
   ]
  },
  {
   "cell_type": "code",
   "execution_count": 17,
   "metadata": {},
   "outputs": [
    {
     "ename": "KeyboardInterrupt",
     "evalue": "",
     "output_type": "error",
     "traceback": [
      "\u001b[0;31m---------------------------------------------------------------------------\u001b[0m",
      "\u001b[0;31mKeyboardInterrupt\u001b[0m                         Traceback (most recent call last)",
      "Cell \u001b[0;32mIn[17], line 5\u001b[0m\n\u001b[1;32m      2\u001b[0m string1 \u001b[38;5;241m=\u001b[39m \u001b[38;5;124m\"\u001b[39m\u001b[38;5;124mhello\u001b[39m\u001b[38;5;124m\"\u001b[39m\n\u001b[1;32m      3\u001b[0m string2 \u001b[38;5;241m=\u001b[39m \u001b[38;5;124m\"\u001b[39m\u001b[38;5;124mhello\u001b[39m\u001b[38;5;124m\"\u001b[39m\n\u001b[0;32m----> 5\u001b[0m \u001b[38;5;28;01mif\u001b[39;00m \u001b[43mcompare_strings_exactly\u001b[49m\u001b[43m(\u001b[49m\u001b[43mstring1\u001b[49m\u001b[43m,\u001b[49m\u001b[43m \u001b[49m\u001b[43mstring2\u001b[49m\u001b[43m)\u001b[49m:\n\u001b[1;32m      6\u001b[0m     \u001b[38;5;28mprint\u001b[39m(\u001b[38;5;124mf\u001b[39m\u001b[38;5;124m\"\u001b[39m\u001b[38;5;132;01m{\u001b[39;00mstring1\u001b[38;5;132;01m}\u001b[39;00m\u001b[38;5;124m and \u001b[39m\u001b[38;5;132;01m{\u001b[39;00mstring2\u001b[38;5;132;01m}\u001b[39;00m\u001b[38;5;124m are exactly equal.\u001b[39m\u001b[38;5;124m\"\u001b[39m)\u001b[38;5;66;03m# Function to check if two strings are exactly equal\u001b[39;00m\n\u001b[1;32m      7\u001b[0m \u001b[38;5;28;01mdef\u001b[39;00m \u001b[38;5;21mcompare_strings_exactly\u001b[39m(str1,str2):\n\u001b[1;32m      8\u001b[0m     \u001b[38;5;66;03m# same length\u001b[39;00m\n",
      "Cell \u001b[0;32mIn[13], line 11\u001b[0m, in \u001b[0;36mcompare_strings_exactly\u001b[0;34m(str1, str2)\u001b[0m\n\u001b[1;32m      9\u001b[0m size \u001b[38;5;241m=\u001b[39m \u001b[38;5;28mlen\u001b[39m(str1)\n\u001b[1;32m     10\u001b[0m i \u001b[38;5;241m=\u001b[39m \u001b[38;5;241m0\u001b[39m \u001b[38;5;66;03m# string position index\u001b[39;00m\n\u001b[0;32m---> 11\u001b[0m \u001b[38;5;28;01mwhile\u001b[39;00m i \u001b[38;5;241m<\u001b[39m size \u001b[38;5;129;01mand\u001b[39;00m str1[i] \u001b[38;5;241m==\u001b[39m str2[i]:\n\u001b[1;32m     12\u001b[0m     i\u001b[38;5;241m+\u001b[39m\u001b[38;5;241m1\u001b[39m\n\u001b[1;32m     13\u001b[0m \u001b[38;5;28mprint\u001b[39m(\u001b[38;5;124mf\u001b[39m\u001b[38;5;124m\"\u001b[39m\u001b[38;5;124mNow at index:\u001b[39m\u001b[38;5;132;01m{\u001b[39;00mi\u001b[38;5;132;01m}\u001b[39;00m\u001b[38;5;124m\"\u001b[39m)\n",
      "\u001b[0;31mKeyboardInterrupt\u001b[0m: "
     ]
    }
   ],
   "source": [
    "\n",
    "# Example usage\n",
    "string1 = \"hello\"\n",
    "string2 = \"hello\"\n",
    "\n",
    "if compare_strings_exactly(string1, string2):\n",
    "    print(f\"{string1} and {string2} are exactly equal.\")# Function to check if two strings are exactly equal\n",
    "def compare_strings_exactly(str1,str2):\n",
    "    # same length\n",
    "    if len(str1) != len(str2):\n",
    "        print(\"str1 and str2 are not the same length!\")\n",
    "        return False\n",
    "    \n",
    "    # compare 1 by 2\n",
    "    size = len(str1)\n",
    "    i = 0 # string position index\n",
    "    while i < size and str1[i] == str2[i]:\n",
    "        i+= 1\n",
    "\n",
    "\n",
    "print(\"Now at index : fi)\")\n",
    "return i == size #if same, return Ture, if not same, rturn False\n",
    "\n",
    "\n",
    "# Example usage[\n",
    "string1 = \"hello\"\n",
    "string2 = \"hello\"\n",
    "\n",
    "\n",
    "if compare_strings_exactly(string1, string2):\n",
    "    print(f\"fstringl) and (string2) are exactly equal.\")\n",
    "else:\n",
    "    print(f\"{string1} and {string2} not equal.\")\n",
    "\n"
   ]
  },
  {
   "cell_type": "code",
   "execution_count": null,
   "metadata": {},
   "outputs": [],
   "source": []
  }
 ],
 "metadata": {
  "kernelspec": {
   "display_name": "Python 3",
   "language": "python",
   "name": "python3"
  },
  "language_info": {
   "codemirror_mode": {
    "name": "ipython",
    "version": 3
   },
   "file_extension": ".py",
   "mimetype": "text/x-python",
   "name": "python",
   "nbconvert_exporter": "python",
   "pygments_lexer": "ipython3",
   "version": "3.12.1"
  }
 },
 "nbformat": 4,
 "nbformat_minor": 2
}
