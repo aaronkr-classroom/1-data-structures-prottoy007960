{
  "nbformat": 4,
  "nbformat_minor": 0,
  "metadata": {
    "colab": {
      "provenance": []
    },
    "kernelspec": {
      "name": "python3",
      "display_name": "Python 3"
    },
    "language_info": {
      "name": "python"
    }
  },
  "cells": [
    {
      "cell_type": "markdown",
      "source": [
        "# Binary Search Trees (BST)"
      ],
      "metadata": {
        "id": "d4USoBYZIbMc"
      }
    },
    {
      "cell_type": "code",
      "execution_count": 37,
      "metadata": {
        "id": "b6Xnq4-nIVMA"
      },
      "outputs": [],
      "source": [
        "class TreeNode:\n",
        "    def __init__(self, value):\n",
        "        self.value = value\n",
        "        self.left = None\n",
        "        self.right = None\n",
        "        self.parent = None\n",
        "\n",
        "class BinarySearchTree:\n",
        "    def __init__(self):\n",
        "        self.root = None\n",
        "\n",
        "    def find_value(self, current, target):\n",
        "        if current is None:\n",
        "            return None\n",
        "        if current.value == target:\n",
        "            return current\n",
        "        if target < current.value:\n",
        "            return self.find_value(current.left, target)\n",
        "        else:\n",
        "            return self.find_value(current.right, target)\n",
        "\n",
        "    def find_value_itr(self, root, target):\n",
        "        current = root\n",
        "        while current is not None and current.value != target:\n",
        "            if target < current.value:\n",
        "                current = current.left\n",
        "            else:\n",
        "                current = current.right\n",
        "        return current\n",
        "\n",
        "    def find_tree_node(self, target):\n",
        "        if self.root is None:\n",
        "            return None\n",
        "        return self.find_value(self.root, target)\n",
        "\n",
        "    def insert_tree_node(self, new_value):\n",
        "        if self.root is None:\n",
        "            self.root = TreeNode(new_value)\n",
        "        else:\n",
        "            self.insert_node(self.root, new_value)\n",
        "\n",
        "    def insert_node(self, current, new_value):\n",
        "        if new_value == current.value:\n",
        "            return  # Skip inserting duplicates\n",
        "        if new_value < current.value:\n",
        "            if current.left is not None:\n",
        "                self.insert_node(current.left, new_value)\n",
        "            else:\n",
        "                current.left = TreeNode(new_value)\n",
        "                current.left.parent = current\n",
        "        else:\n",
        "            if current.right is not None:\n",
        "                self.insert_node(current.right, new_value)\n",
        "            else:\n",
        "                current.right = TreeNode(new_value)\n",
        "                current.right.parent = current\n",
        "\n",
        "    def remove_tree_node(self, node):\n",
        "        if node is None:\n",
        "          return\n",
        "\n",
        "        # Case A: Leaf Node\n",
        "        if node.left is None and node.right is None:\n",
        "          if node.parent is None:  # it's the root!\n",
        "            self.root = None\n",
        "          elif node.parent.left == node:\n",
        "            node.parent.left = None\n",
        "          else:\n",
        "            node.parent.right = None\n",
        "\n",
        "        # Case B: One Child\n",
        "        elif node.left is None or node.right is None:\n",
        "          # Condition ? True : False\n",
        "          child = node.left if node.left is not None else node.right\n",
        "          child.parent = node.parent\n",
        "          if node.parent is None: # it's the root!\n",
        "            self.root = child\n",
        "          elif node.parent.left == node:\n",
        "            node.parent.left = child\n",
        "          else:\n",
        "            node.parent.right = child\n",
        "\n",
        "        # Case C: Two children\n",
        "        else:\n",
        "          successor = self.get_min_value_node(node.right)\n",
        "          self.remove_tree_node(successor)\n",
        "          successor.parent = node.parent\n",
        "\n",
        "          if node.parent is None: # it's the root!\n",
        "            self.root = successor\n",
        "          elif node.parent.left == node:\n",
        "            node.parent.left = successor\n",
        "          else:\n",
        "            node.parent.right = successor\n",
        "\n",
        "          successor.left = node.left\n",
        "          successor.right = node.right\n",
        "\n",
        "          if node.left is not None:\n",
        "            node.left.parent = successor\n",
        "          if node.right is not None:\n",
        "            node.right.parent = successor\n",
        "\n",
        "\n",
        "    def get_min_value_node(self, node, max = False, debug = False):\n",
        "      if debug:\n",
        "        print(\"Debugging!\")\n",
        "      current = node\n",
        "      if max:\n",
        "        while current.left is not None:\n",
        "          current = current.left\n",
        "      else:\n",
        "        while current.left is not None:\n",
        "          current = current.left\n",
        "      return current\n",
        "\n",
        "    def remove_value(self, target):\n",
        "        node = self.find_tree_node(target)\n",
        "        self.remove_tree_node(node)\n",
        "\n",
        "    def print_tree(self):\n",
        "         levels = []\n",
        "         self._print_tree_helper(self.root, 0, levels)\n",
        "         for depth, nodes in enumerate(levels):\n",
        "          print(f\"Level {depth}:  \" + \" \".join(map(str,nodes)))\n",
        "\n",
        "\n",
        "    def _print_tree_helper(self, node, depth, levels):\n",
        "      if node is None:\n",
        "        return\n",
        "      if (len(levels) == depth):\n",
        "        levels.append([])\n",
        "      levels[depth].append(node.value)\n",
        "      self._print_tree_helper(node.left, depth +1, levels)\n",
        "      self._print_tree_helper(node.right, depth +1, levels)"
      ]
    },
    {
      "cell_type": "code",
      "source": [
        " bst = BinarySearchTree()\n",
        " bst.insert_tree_node(50)  # Root: 50\n",
        " bst.insert_tree_node(30)  # Left: 30\n",
        " bst.insert_tree_node(70)  # Right: 70\n",
        " bst.insert_tree_node(20)\n",
        " bst.insert_tree_node(40)\n",
        " bst.insert_tree_node(60)\n",
        " bst.insert_tree_node(80)\n",
        " bst.insert_tree_node(10)\n",
        " bst.insert_tree_node(100)\n",
        " bst.insert_tree_node(90)\n",
        " bst.insert_tree_node(0)\n"
      ],
      "metadata": {
        "id": "kAJ09DuqykAr"
      },
      "execution_count": 38,
      "outputs": []
    },
    {
      "cell_type": "code",
      "source": [
        " print(\"BST after inserts:\")\n",
        " bst.print_tree()"
      ],
      "metadata": {
        "colab": {
          "base_uri": "https://localhost:8080/"
        },
        "id": "RfPk41hszgWb",
        "outputId": "06c6b97f-3ed9-4eaa-c453-f8440592b7bd"
      },
      "execution_count": 39,
      "outputs": [
        {
          "output_type": "stream",
          "name": "stdout",
          "text": [
            "BST after inserts:\n",
            "Level 0:  50\n",
            "Level 1:  30 70\n",
            "Level 2:  20 40 60 80\n",
            "Level 3:  10 100\n",
            "Level 4:  0 90\n"
          ]
        }
      ]
    },
    {
      "cell_type": "markdown",
      "source": [
        "## Inserting and Printing Tree"
      ],
      "metadata": {
        "id": "GdGqa1nuIiYa"
      }
    },
    {
      "cell_type": "markdown",
      "source": [
        "## Searching for Values"
      ],
      "metadata": {
        "id": "BsRYD_sZIoRB"
      }
    },
    {
      "cell_type": "code",
      "source": [
        " print(\"Finding 20:\", bst.find_tree_node(20))\n",
        " print(\"Finding 55:\", bst.find_tree_node(55))\n",
        " print(\"Finding 0:\", bst.find_tree_node(0))"
      ],
      "metadata": {
        "colab": {
          "base_uri": "https://localhost:8080/"
        },
        "id": "pC-JXr_i2tl5",
        "outputId": "78b9a202-7777-4adc-a273-5e94de258066"
      },
      "execution_count": 40,
      "outputs": [
        {
          "output_type": "stream",
          "name": "stdout",
          "text": [
            "Finding 20: <__main__.TreeNode object at 0x7a8f01fd5d50>\n",
            "Finding 55: None\n",
            "Finding 0: <__main__.TreeNode object at 0x7a8f01fd67d0>\n"
          ]
        }
      ]
    },
    {
      "cell_type": "markdown",
      "source": [
        "## Removing Nodes"
      ],
      "metadata": {
        "id": "4gfBL-_IIth5"
      }
    },
    {
      "cell_type": "code",
      "source": [
        "  bst.remove_value(0)  #Remove leaf\n",
        "  print(\"Tree after removing 0:\")\n",
        "  bst.print_tree()\n",
        "\n",
        "  bst.remove_value(100) # Remove node with one child\n",
        "  print(\"Tree after removing 100:\")\n",
        "  bst.print_tree()\n",
        "\n",
        "  bst.remove_value(50)  # Remove root node\n",
        "  print(\"Tree after removing 50:\")\n",
        "  bst.print_tree()"
      ],
      "metadata": {
        "colab": {
          "base_uri": "https://localhost:8080/"
        },
        "id": "YUCpBVTP3ACz",
        "outputId": "d25b8ec0-f5b9-4c8c-e0af-03089138b56b"
      },
      "execution_count": 41,
      "outputs": [
        {
          "output_type": "stream",
          "name": "stdout",
          "text": [
            "Tree after removing 0:\n",
            "Level 0:  50\n",
            "Level 1:  30 70\n",
            "Level 2:  20 40 60 80\n",
            "Level 3:  10 100\n",
            "Level 4:  90\n",
            "Tree after removing 100:\n",
            "Level 0:  50\n",
            "Level 1:  30 70\n",
            "Level 2:  20 40 60 80\n",
            "Level 3:  10 90\n",
            "Tree after removing 50:\n",
            "Level 0:  60\n",
            "Level 1:  30 70\n",
            "Level 2:  20 40 80\n",
            "Level 3:  10 90\n"
          ]
        }
      ]
    },
    {
      "cell_type": "markdown",
      "source": [
        "## Min / Max Value Search"
      ],
      "metadata": {
        "id": "P3HGaLrwIxWq"
      }
    },
    {
      "cell_type": "code",
      "source": [
        "min_node = bst.get_min_value_node(bst.root)\n",
        "print(\"Min value in Tree:\", min_node.value)\n",
        "\n",
        "max_node = bst.get_min_value_node(bst.root, 1, 1)\n",
        "print(\"Max value in Tree:\", max_node.value)"
      ],
      "metadata": {
        "colab": {
          "base_uri": "https://localhost:8080/"
        },
        "id": "weRB37D_-SUX",
        "outputId": "daeb12b3-37b2-4985-95d1-9d4c6a5f23ee"
      },
      "execution_count": 42,
      "outputs": [
        {
          "output_type": "stream",
          "name": "stdout",
          "text": [
            "Min value in Tree: 10\n",
            "Debugging!\n",
            "Max value in Tree: 10\n"
          ]
        }
      ]
    },
    {
      "cell_type": "markdown",
      "source": [
        "## Explanation\n",
        "\n",
        "1. InsertNode:\n",
        "  - Adds a new node with a given value to the tree.\n",
        "  - Checks if the current node should go left or right and recursively finds the position.\n",
        "  - Sets parent pointer for maintaining references.\n",
        "2. RemoveTreeNode:\n",
        "  - Handles three cases:\n",
        "    - Leaf Node: Simply deletes the node.\n",
        "    - One Child: Promotes the child node.\n",
        "    - Two Children: Finds the successor (smallest value in the right subtree), splices it, and replaces the node to be deleted.\n",
        "3. PrintTree:\n",
        "  - Uses breadth-first traversal to display the tree structure by levels.\n",
        "\n",
        "These examples and explanations illustrate the common operations in a binary search tree and provide insights into tree manipulation, making it easier to visualize how insertions and deletions work."
      ],
      "metadata": {
        "id": "XhhSBexTM7tu"
      }
    },
    {
      "cell_type": "code",
      "source": [],
      "metadata": {
        "id": "9hvq3ROYI0dD"
      },
      "execution_count": null,
      "outputs": []
    }
  ]
}